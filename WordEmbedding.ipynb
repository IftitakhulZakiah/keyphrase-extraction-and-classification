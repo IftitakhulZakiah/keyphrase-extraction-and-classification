{
 "cells": [
  {
   "cell_type": "code",
   "execution_count": 30,
   "metadata": {},
   "outputs": [],
   "source": [
    "import gensim\n",
    "import tensorflow as tf\n",
    "import numpy as np"
   ]
  },
  {
   "cell_type": "code",
   "execution_count": 19,
   "metadata": {},
   "outputs": [],
   "source": [
    "from gensim.models import KeyedVectors\n",
    "filename = 'GoogleNews-vectors-negative300.bin'\n",
    "word_vector = KeyedVectors.load_word2vec_format(filename, binary=True, limit=500000)\n"
   ]
  },
  {
   "cell_type": "code",
   "execution_count": 6,
   "metadata": {},
   "outputs": [],
   "source": [
    "tokenized_text = [['this', 'is', 'the', 'first', 'sentence', 'for', 'word2vec'],\n",
    "                 ['this', 'is', 'the', 'second', 'sentence'],\n",
    "                 ['yet', 'another', 'sentence'],\n",
    "                 ['one', 'more', 'sentence'],\n",
    "                 ['and', 'the', 'final', 'sentence']]"
   ]
  },
  {
   "cell_type": "code",
   "execution_count": 21,
   "metadata": {},
   "outputs": [
    {
     "data": {
      "text/plain": [
       "[[28, 4, 11, 56, 2303, 2],\n",
       " [28, 4, 11, 110, 2303],\n",
       " [506, 197, 2303],\n",
       " [45, 39, 2303],\n",
       " [11, 323, 2303]]"
      ]
     },
     "execution_count": 21,
     "metadata": {},
     "output_type": "execute_result"
    }
   ],
   "source": [
    "#Word to index in w2v\n",
    "encoded_docs = []\n",
    "for tokenized_sent in tokenized_text:\n",
    "    encoded_sent = []\n",
    "    for term in tokenized_sent:\n",
    "        try:\n",
    "            encoded_sent.append(word_vector[term].index)\n",
    "        except:\n",
    "            pass\n",
    "    encoded_docs.append(encoded_sent)\n",
    "encoded_docs"
   ]
  },
  {
   "cell_type": "code",
   "execution_count": 26,
   "metadata": {},
   "outputs": [
    {
     "name": "stdout",
     "output_type": "stream",
     "text": [
      "6\n",
      "[[  28    4   11   56 2303    2]\n",
      " [  28    4   11  110 2303    0]\n",
      " [ 506  197 2303    0    0    0]\n",
      " [  45   39 2303    0    0    0]\n",
      " [  11  323 2303    0    0    0]]\n",
      "(5, 6)\n"
     ]
    }
   ],
   "source": [
    "#Sentence Padding\n",
    "mx = max([len(encoded_sent) for encoded_sent in encoded_docs])\n",
    "print(mx)\n",
    "X_w2v = tf.keras.preprocessing.sequence.pad_sequences(encoded_docs, maxlen=mx, padding='post')\n",
    "print(X_w2v)\n",
    "print(X_w2v.shape)"
   ]
  },
  {
   "cell_type": "code",
   "execution_count": 37,
   "metadata": {},
   "outputs": [
    {
     "name": "stdout",
     "output_type": "stream",
     "text": [
      "28\n",
      "4\n",
      "11\n",
      "56\n",
      "2303\n",
      "2\n",
      "28\n",
      "4\n",
      "11\n",
      "110\n",
      "2303\n",
      "0\n",
      "506\n",
      "197\n",
      "2303\n",
      "0\n",
      "0\n",
      "0\n",
      "45\n",
      "39\n",
      "2303\n",
      "0\n",
      "0\n",
      "0\n",
      "11\n",
      "323\n",
      "2303\n",
      "0\n",
      "0\n",
      "0\n",
      "(5, 6)\n"
     ]
    }
   ],
   "source": [
    "#doc padding\n",
    "dim = 2\n",
    "X_w2v_post = []\n",
    "for X_sent in X_w2v:\n",
    "    tmp = []\n",
    "    for i in X_sent:\n",
    "        print(i)\n",
    "        tmp.append(\n",
    "            np.zeros((2,)) if i==0 else\n",
    "            word_vector.get_vector(word_vector.index2word[i])\n",
    "        )\n",
    "    X_w2v_post.append(tmp)\n",
    "X_w2v_post = np.array(X_w2v_post)\n",
    "print(X_w2v_post.shape)\n",
    "#X_w2v_post = X_w2v_post.reshape(X_w2v_post.shape[0], X_w2v_post.shape[1] * X_w2v_post.shape[2])\n",
    "#print(X_w2v_post.shape)"
   ]
  },
  {
   "cell_type": "code",
   "execution_count": null,
   "metadata": {},
   "outputs": [],
   "source": []
  }
 ],
 "metadata": {
  "kernelspec": {
   "display_name": "Python 3",
   "language": "python",
   "name": "python3"
  }
 },
 "nbformat": 4,
 "nbformat_minor": 2
}
