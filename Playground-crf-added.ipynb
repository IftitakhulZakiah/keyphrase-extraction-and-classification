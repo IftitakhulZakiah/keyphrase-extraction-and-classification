{
 "cells": [
  {
   "cell_type": "markdown",
   "metadata": {},
   "source": [
    "# BiLSTM"
   ]
  },
  {
   "cell_type": "code",
   "execution_count": 1,
   "metadata": {},
   "outputs": [
    {
     "name": "stderr",
     "output_type": "stream",
     "text": [
      "Using TensorFlow backend.\n"
     ]
    }
   ],
   "source": [
    "from reader import Reader\n",
    "from wordembedder import Wordembedder\n",
    "import nltk\n",
    "import pandas as pd\n",
    "import numpy as np\n",
    "from sentence_splitter import SentenceSplitter\n",
    "from keras import regularizers\n",
    "from keras.utils import np_utils\n",
    "from keras.models import Sequential\n",
    "from keras.layers import LSTM, Dense, Bidirectional, Activation, Embedding\n",
    "from keras.layers.embeddings import Embedding\n",
    "from keras.preprocessing.text import Tokenizer\n",
    "from sklearn.preprocessing import LabelEncoder\n",
    "from sklearn.model_selection import train_test_split\n",
    "from sklearn.model_selection import KFold\n",
    "from keras_contrib.layers import CRF\n",
    "from keras_contrib import metrics as mt\n",
    "from keras_contrib import losses as ls"
   ]
  },
  {
   "cell_type": "code",
   "execution_count": 2,
   "metadata": {},
   "outputs": [
    {
     "data": {
      "text/html": [
       "<div>\n",
       "<style scoped>\n",
       "    .dataframe tbody tr th:only-of-type {\n",
       "        vertical-align: middle;\n",
       "    }\n",
       "\n",
       "    .dataframe tbody tr th {\n",
       "        vertical-align: top;\n",
       "    }\n",
       "\n",
       "    .dataframe thead th {\n",
       "        text-align: right;\n",
       "    }\n",
       "</style>\n",
       "<table border=\"1\" class=\"dataframe\">\n",
       "  <thead>\n",
       "    <tr style=\"text-align: right;\">\n",
       "      <th></th>\n",
       "      <th>id</th>\n",
       "      <th>texts</th>\n",
       "      <th>tags</th>\n",
       "    </tr>\n",
       "  </thead>\n",
       "  <tbody>\n",
       "    <tr>\n",
       "      <th>0</th>\n",
       "      <td>0</td>\n",
       "      <td>Nuclear theory devoted major efforts since 4 d...</td>\n",
       "      <td>['B-PHRASE', 'I-PHRASE', 'OTHER', 'B-PHRASE', ...</td>\n",
       "    </tr>\n",
       "    <tr>\n",
       "      <th>1</th>\n",
       "      <td>1</td>\n",
       "      <td>The next important step might be the derivatio...</td>\n",
       "      <td>['B-PHRASE', 'OTHER', 'B-PHRASE', 'OTHER', 'B-...</td>\n",
       "    </tr>\n",
       "    <tr>\n",
       "      <th>2</th>\n",
       "      <td>2</td>\n",
       "      <td>A fluctuating vacuum is a general feature of q...</td>\n",
       "      <td>['B-PHRASE', 'I-PHRASE', 'OTHER', 'B-PHRASE', ...</td>\n",
       "    </tr>\n",
       "    <tr>\n",
       "      <th>3</th>\n",
       "      <td>3</td>\n",
       "      <td>We have presented spectrally resolved femtosec...</td>\n",
       "      <td>['B-PHRASE', 'OTHER', 'B-PHRASE', 'I-PHRASE', ...</td>\n",
       "    </tr>\n",
       "    <tr>\n",
       "      <th>4</th>\n",
       "      <td>4</td>\n",
       "      <td>Water is the most important liquid, and the na...</td>\n",
       "      <td>['B-PHRASE', 'OTHER', 'B-PHRASE', 'OTHER', 'B-...</td>\n",
       "    </tr>\n",
       "  </tbody>\n",
       "</table>\n",
       "</div>"
      ],
      "text/plain": [
       "   id                                              texts  \\\n",
       "0   0  Nuclear theory devoted major efforts since 4 d...   \n",
       "1   1  The next important step might be the derivatio...   \n",
       "2   2  A fluctuating vacuum is a general feature of q...   \n",
       "3   3  We have presented spectrally resolved femtosec...   \n",
       "4   4  Water is the most important liquid, and the na...   \n",
       "\n",
       "                                                tags  \n",
       "0  ['B-PHRASE', 'I-PHRASE', 'OTHER', 'B-PHRASE', ...  \n",
       "1  ['B-PHRASE', 'OTHER', 'B-PHRASE', 'OTHER', 'B-...  \n",
       "2  ['B-PHRASE', 'I-PHRASE', 'OTHER', 'B-PHRASE', ...  \n",
       "3  ['B-PHRASE', 'OTHER', 'B-PHRASE', 'I-PHRASE', ...  \n",
       "4  ['B-PHRASE', 'OTHER', 'B-PHRASE', 'OTHER', 'B-...  "
      ]
     },
     "execution_count": 2,
     "metadata": {},
     "output_type": "execute_result"
    }
   ],
   "source": [
    "datas = pd.read_csv('data-extraction.csv')\n",
    "datas.head()"
   ]
  },
  {
   "cell_type": "code",
   "execution_count": 3,
   "metadata": {},
   "outputs": [],
   "source": [
    "# reader = Reader()\n",
    "# reader.read(r\"C:\\Users\\user\\Documents\\IF5282-NLP\\relation-extraction\\data\\scienceie2017_train\\train2\")"
   ]
  },
  {
   "cell_type": "code",
   "execution_count": 4,
   "metadata": {},
   "outputs": [],
   "source": [
    "# reader.publications[0].text"
   ]
  },
  {
   "cell_type": "code",
   "execution_count": 5,
   "metadata": {},
   "outputs": [],
   "source": [
    "X = datas['texts']\n",
    "y = datas['tags']\n",
    "docs = []\n",
    "for pub in X:\n",
    "    docs.append(pub)\n",
    "wv_doc = Wordembedder(docs, filename='embedding_matrix.npy')\n",
    "encoded_docs = wv_doc.encoded_docs\n",
    "vocab_size=wv_doc.vocab_size"
   ]
  },
  {
   "cell_type": "code",
   "execution_count": 6,
   "metadata": {},
   "outputs": [],
   "source": [
    "y_doc = wv_doc.encodeDocs(y)"
   ]
  },
  {
   "cell_type": "code",
   "execution_count": 7,
   "metadata": {},
   "outputs": [
    {
     "name": "stdout",
     "output_type": "stream",
     "text": [
      "(350, 271, 1)\n",
      "280 280\n"
     ]
    }
   ],
   "source": [
    "encoder = LabelEncoder()\n",
    "encoder.fit(y)\n",
    "encoded_Y = encoder.transform(y)\n",
    "y_vec = np_utils.to_categorical(encoded_Y)\n",
    "y_doc = y_doc.reshape(y_doc.shape[0], y_doc.shape[1], 1)\n",
    "print(y_doc.shape)\n",
    "\n",
    "X_train, X_test, y_train, y_test = train_test_split(encoded_docs, y_doc, test_size=0.2, random_state=1)\n",
    "print(len(X_train), len(y_train))"
   ]
  },
  {
   "cell_type": "code",
   "execution_count": 8,
   "metadata": {},
   "outputs": [],
   "source": [
    "def fit_and_eval_bilstm(X_train, y_train, X_test, y_test, X_val, y_val, vocab_size, embedding_matrix, embedding_dim, max_length):\n",
    "    model = Sequential()\n",
    "    model.add(Embedding(vocab_size, 300, weights=[wv_doc.embedding_matrix], input_length=wv_doc.max_length))\n",
    "    model.add(Bidirectional(LSTM(units=256, recurrent_dropout=0.3, return_sequences=True, input_shape=(1, wv_doc.max_length, 1))))\n",
    "    #model.add(Bidirectional(LSTM(units=128, recurrent_dropout=0.2, dropout=0.2)))\n",
    "    n_tags = 271\n",
    "    crf = CRF(n_tags, sparse_target=True)\n",
    "    model.add(crf)\n",
    "    #model.add(Dense(350, activation='softmax'))\n",
    "    model.compile(optimizer='rmsprop', loss=ls.crf_loss, metrics=[mt.crf_accuracy])\n",
    "    result = model.fit(X_train, y_train, batch_size=128, epochs=10, validation_data=(X_val, y_val), verbose=1)\n",
    "    metrics = model.evaluate(x_test, y_test)\n",
    "    return result, metrics[0], metrics[1]"
   ]
  },
  {
   "cell_type": "code",
   "execution_count": 124,
   "metadata": {},
   "outputs": [
    {
     "name": "stdout",
     "output_type": "stream",
     "text": [
      "_________________________________________________________________\n",
      "Layer (type)                 Output Shape              Param #   \n",
      "=================================================================\n",
      "embedding_39 (Embedding)     (None, 271, 300)          2557200   \n",
      "_________________________________________________________________\n",
      "bidirectional_50 (Bidirectio (None, 271, 512)          1140736   \n",
      "_________________________________________________________________\n",
      "bidirectional_51 (Bidirectio (None, 256)               656384    \n",
      "_________________________________________________________________\n",
      "dense_16 (Dense)             (None, 350)               89950     \n",
      "=================================================================\n",
      "Total params: 4,444,270\n",
      "Trainable params: 4,444,270\n",
      "Non-trainable params: 0\n",
      "_________________________________________________________________\n"
     ]
    }
   ],
   "source": [
    "model = Sequential()\n",
    "model.add(Embedding(vocab_size, 300, weights=[wv_doc.embedding_matrix], input_length=wv_doc.max_length))\n",
    "model.add(Bidirectional(LSTM(units=256, recurrent_dropout=0.3, return_sequences=True, input_shape=(1, wv_doc.max_length, 1))))\n",
    "model.add(Bidirectional(LSTM(units=128, recurrent_dropout=0.2, dropout=0.2)))\n",
    "model.add(Dense(350, activation='softmax'))\n",
    "model.compile(optimizer='adam', loss='binary_crossentropy', metrics=['accuracy'])\n",
    "model.summary()"
   ]
  },
  {
   "cell_type": "code",
   "execution_count": null,
   "metadata": {},
   "outputs": [
    {
     "name": "stdout",
     "output_type": "stream",
     "text": [
      "Training on Fold:  1\n",
      "WARNING:tensorflow:From c:\\users\\user\\appdata\\local\\programs\\python\\python36\\lib\\site-packages\\tensorflow\\python\\framework\\op_def_library.py:263: colocate_with (from tensorflow.python.framework.ops) is deprecated and will be removed in a future version.\n",
      "Instructions for updating:\n",
      "Colocations handled automatically by placer.\n",
      "WARNING:tensorflow:From c:\\users\\user\\appdata\\local\\programs\\python\\python36\\lib\\site-packages\\keras\\backend\\tensorflow_backend.py:3445: calling dropout (from tensorflow.python.ops.nn_ops) with keep_prob is deprecated and will be removed in a future version.\n",
      "Instructions for updating:\n",
      "Please use `rate` instead of `keep_prob`. Rate should be set to `rate = 1 - keep_prob`.\n",
      "WARNING:tensorflow:From c:\\users\\user\\appdata\\local\\programs\\python\\python36\\lib\\site-packages\\tensorflow\\python\\ops\\math_ops.py:3066: to_int32 (from tensorflow.python.ops.math_ops) is deprecated and will be removed in a future version.\n",
      "Instructions for updating:\n",
      "Use tf.cast instead.\n",
      "Train on 224 samples, validate on 56 samples\n",
      "Epoch 1/10\n"
     ]
    }
   ],
   "source": [
    "kfold = KFold(5, True, random_state=1)\n",
    "model_history = []\n",
    "metrics = []\n",
    "i=1\n",
    "for train, val in kfold.split(X_train, y_train):\n",
    "    print(\"Training on Fold: \",i)\n",
    "    train_x = X_train[train]\n",
    "    val_x = X_train[val]\n",
    "    train_y = y_train[train]\n",
    "    val_y = y_train[val]\n",
    "    \n",
    "    history, loss, accuracy = fit_and_eval_bilstm(train_x, train_y, X_test, y_test, val_x, val_y, vocab_size, wv_doc.embedding_matrix, 300, 271)\n",
    "    model_history.append(history)\n",
    "    metrics.append([loss, accuracy])\n",
    "    i+=1"
   ]
  },
  {
   "cell_type": "code",
   "execution_count": null,
   "metadata": {},
   "outputs": [],
   "source": []
  },
  {
   "cell_type": "code",
   "execution_count": null,
   "metadata": {},
   "outputs": [],
   "source": []
  }
 ],
 "metadata": {
  "kernelspec": {
   "display_name": "Python 3",
   "language": "python",
   "name": "python3"
  },
  "language_info": {
   "codemirror_mode": {
    "name": "ipython",
    "version": 3
   },
   "file_extension": ".py",
   "mimetype": "text/x-python",
   "name": "python",
   "nbconvert_exporter": "python",
   "pygments_lexer": "ipython3",
   "version": "3.6.8"
  }
 },
 "nbformat": 4,
 "nbformat_minor": 2
}
